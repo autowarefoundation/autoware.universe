{
 "cells": [
  {
   "cell_type": "code",
   "execution_count": 45,
   "id": "51e6146c-5092-4436-ac9a-086583ab8185",
   "metadata": {},
   "outputs": [],
   "source": [
    "import csv\n",
    "import numpy as np\n",
    "def map_csv_writer(actuation_map_state, actuation_map_cmd, actuation_map_matrix, save_path):\n",
    "    with open(save_path, mode=\"w\", newline=\"\") as file:\n",
    "        writer = csv.writer(file)\n",
    "        writer.writerow([\"default\"] + actuation_map_state)\n",
    "        for i in range(actuation_map_matrix.shape[0]):\n",
    "            print([actuation_map_cmd[i]])\n",
    "            print([actuation_map_cmd[i]] + actuation_map_matrix[i].tolist())\n",
    "            writer.writerow([actuation_map_cmd[i]] + actuation_map_matrix[i].tolist())\n",
    "        "
   ]
  },
  {
   "cell_type": "code",
   "execution_count": 46,
   "id": "2409f055-e267-46a0-a94b-5973ef6fc705",
   "metadata": {},
   "outputs": [],
   "source": [
    "M = np.zeros((2,4))"
   ]
  },
  {
   "cell_type": "code",
   "execution_count": 47,
   "id": "b8f88df6-c496-4563-a63c-2cdf1b3bc6a6",
   "metadata": {},
   "outputs": [
    {
     "data": {
      "text/plain": [
       "['nun', 0.0, 0.0, 0.0, 0.0]"
      ]
     },
     "execution_count": 47,
     "metadata": {},
     "output_type": "execute_result"
    }
   ],
   "source": [
    "[\"nun\"] + M[0].tolist()"
   ]
  },
  {
   "cell_type": "code",
   "execution_count": 48,
   "id": "f509da06-ea75-4889-a2ba-e1bf14247465",
   "metadata": {},
   "outputs": [
    {
     "data": {
      "text/plain": [
       "[[0.0, 0.0, 0.0, 0.0], [0.0, 0.0, 0.0, 0.0]]"
      ]
     },
     "execution_count": 48,
     "metadata": {},
     "output_type": "execute_result"
    }
   ],
   "source": [
    "M.tolist()"
   ]
  },
  {
   "cell_type": "code",
   "execution_count": 49,
   "id": "0f955467-7d8d-4e86-a451-5b861aac2eab",
   "metadata": {},
   "outputs": [],
   "source": [
    "with open(\"aho.csv\", mode=\"w\", newline=\"\") as file:\n",
    "    writer = csv.writer(file)\n",
    "    writer.writerow(M[0])\n",
    "    writer.writerow(M[1])"
   ]
  },
  {
   "cell_type": "code",
   "execution_count": 50,
   "id": "cff35076-63b5-432c-a398-50c8ef51228a",
   "metadata": {},
   "outputs": [],
   "source": [
    "actuation_map_state=[1,2]\n",
    "actuation_map_cmd=[1,2,3,4]\n",
    "actuation_map_matrix = np.arange(8).reshape(4,2)"
   ]
  },
  {
   "cell_type": "code",
   "execution_count": 51,
   "id": "3a6dc22d-9d2c-4586-8037-b1bcf7fae6ae",
   "metadata": {},
   "outputs": [
    {
     "name": "stdout",
     "output_type": "stream",
     "text": [
      "[1]\n",
      "[1, 0, 1]\n",
      "[2]\n",
      "[2, 2, 3]\n",
      "[3]\n",
      "[3, 4, 5]\n",
      "[4]\n",
      "[4, 6, 7]\n"
     ]
    }
   ],
   "source": [
    "map_csv_writer(actuation_map_state,actuation_map_cmd,actuation_map_matrix,\"aho.csv\")"
   ]
  },
  {
   "cell_type": "code",
   "execution_count": 21,
   "id": "2d11b9a4-511e-4c61-88a8-a4af46c77522",
   "metadata": {},
   "outputs": [
    {
     "data": {
      "text/plain": [
       "array([[0, 1],\n",
       "       [2, 3],\n",
       "       [4, 5],\n",
       "       [6, 7]])"
      ]
     },
     "execution_count": 21,
     "metadata": {},
     "output_type": "execute_result"
    }
   ],
   "source": [
    "actuation_map_matrix"
   ]
  },
  {
   "cell_type": "code",
   "execution_count": null,
   "id": "9a875e67-af6e-48fe-977a-34ee108f6fe3",
   "metadata": {},
   "outputs": [],
   "source": []
  }
 ],
 "metadata": {
  "kernelspec": {
   "display_name": "Python 3 (ipykernel)",
   "language": "python",
   "name": "python3"
  },
  "language_info": {
   "codemirror_mode": {
    "name": "ipython",
    "version": 3
   },
   "file_extension": ".py",
   "mimetype": "text/x-python",
   "name": "python",
   "nbconvert_exporter": "python",
   "pygments_lexer": "ipython3",
   "version": "3.10.12"
  }
 },
 "nbformat": 4,
 "nbformat_minor": 5
}
