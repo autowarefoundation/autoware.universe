{
 "cells": [
  {
   "cell_type": "code",
   "execution_count": 1,
   "id": "365c70a6-b4f2-4ca3-990f-bf3fdf30d856",
   "metadata": {},
   "outputs": [],
   "source": [
    "from autoware_vehicle_adaptor.calibrator import actuation_map_csv_writer\n",
    "import numpy as np"
   ]
  },
  {
   "cell_type": "code",
   "execution_count": 2,
   "id": "7db8cc30-ac60-4fd0-9efa-be5bd22dba11",
   "metadata": {},
   "outputs": [],
   "source": [
    "# accel_map\n",
    "actuation_map_state = [0, 13.89]\n",
    "actuation_map_cmd = [0.0, 0.5]\n",
    "actuation_map_matrix = np.zeros((2,2))\n",
    "actuation_map_matrix[0] = np.array([0.570, -0.456])\n",
    "actuation_map_matrix[1] = np.array([3.027, 1.940])\n",
    "actuation_map_csv_writer.map_csv_writer(actuation_map_state=actuation_map_state, actuation_map_cmd=actuation_map_cmd,\n",
    "                                        actuation_map_matrix=actuation_map_matrix,\n",
    "                                        save_path=\"accel_brake_maps/low_quality_map/accel_map.csv\")"
   ]
  },
  {
   "cell_type": "code",
   "execution_count": 3,
   "id": "f061128a-860d-450d-8ffc-0915d20d3a8c",
   "metadata": {},
   "outputs": [],
   "source": [
    "# brake_map\n",
    "actuation_map_state = [0, 13.89]\n",
    "actuation_map_cmd = [0.0, 0.8]\n",
    "actuation_map_matrix = np.zeros((2,2))\n",
    "actuation_map_matrix[0] = np.array([0.570, -0.456])\n",
    "actuation_map_matrix[1] = np.array([-3.687, -4.774])\n",
    "actuation_map_csv_writer.map_csv_writer(actuation_map_state=actuation_map_state, actuation_map_cmd=actuation_map_cmd,\n",
    "                                        actuation_map_matrix=actuation_map_matrix,\n",
    "                                        save_path=\"accel_brake_maps/low_quality_map/brake_map.csv\")"
   ]
  },
  {
   "cell_type": "code",
   "execution_count": null,
   "id": "a3b36835-bfa8-416e-a503-9799c5201de2",
   "metadata": {},
   "outputs": [],
   "source": []
  }
 ],
 "metadata": {
  "kernelspec": {
   "display_name": "Python 3 (ipykernel)",
   "language": "python",
   "name": "python3"
  },
  "language_info": {
   "codemirror_mode": {
    "name": "ipython",
    "version": 3
   },
   "file_extension": ".py",
   "mimetype": "text/x-python",
   "name": "python",
   "nbconvert_exporter": "python",
   "pygments_lexer": "ipython3",
   "version": "3.10.12"
  }
 },
 "nbformat": 4,
 "nbformat_minor": 5
}
