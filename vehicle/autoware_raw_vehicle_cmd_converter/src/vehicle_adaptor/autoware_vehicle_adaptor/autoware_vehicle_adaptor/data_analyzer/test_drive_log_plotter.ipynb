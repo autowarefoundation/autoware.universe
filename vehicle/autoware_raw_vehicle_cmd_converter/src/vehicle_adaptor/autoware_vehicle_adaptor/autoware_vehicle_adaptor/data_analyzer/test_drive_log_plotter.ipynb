{
 "cells": [
  {
   "cell_type": "code",
   "execution_count": null,
   "id": "e20052aa-bfcc-45cd-b59e-fb570cb6c0fb",
   "metadata": {},
   "outputs": [],
   "source": [
    "from autoware_vehicle_adaptor.data_analyzer import driving_log_plotter"
   ]
  },
  {
   "cell_type": "code",
   "execution_count": null,
   "id": "20d866bc-0480-4f9d-9a1c-6e5f25380be0",
   "metadata": {},
   "outputs": [],
   "source": [
    "plotter = driving_log_plotter.DrivingLogPlotter()"
   ]
  },
  {
   "cell_type": "code",
   "execution_count": null,
   "id": "60c9d183-9bd5-437d-97a7-4c970849876b",
   "metadata": {},
   "outputs": [],
   "source": [
    "plotter.convert_rosbag_to_csv(\"rosbag2_2024_09_10-16_02_41\")"
   ]
  },
  {
   "cell_type": "code",
   "execution_count": null,
   "id": "8a276c85-5bca-477f-89c3-661f40a9cc05",
   "metadata": {},
   "outputs": [],
   "source": [
    "plotter.load_csv(\"rosbag2_2024_09_10-16_02_41\")\n",
    "plotter.plot_position()\n",
    "plotter.plot_velocity(skip_time=0.0,plot_time=None,y_lim=[-0.1,9.0])\n",
    "plotter.plot_yaw(skip_time=0.0,plot_time=None,y_lim=[-1.0,7.0])\n",
    "plotter.plot_acc(skip_time=0.0,plot_time=None,y_lim=[-2.0,2.0])\n",
    "plotter.plot_steer(skip_time=0.0,plot_time=None,y_lim=[-0.8,0.8])\n",
    "plotter.plot_lateral_deviation(skip_time=0.0,plot_time=None,y_lim=[-0.6,0.6])\n"
   ]
  },
  {
   "cell_type": "code",
   "execution_count": null,
   "id": "caad3253-21b2-4fc6-a8ec-3158a28cda54",
   "metadata": {},
   "outputs": [],
   "source": []
  }
 ],
 "metadata": {
  "kernelspec": {
   "display_name": "Python 3 (ipykernel)",
   "language": "python",
   "name": "python3"
  },
  "language_info": {
   "codemirror_mode": {
    "name": "ipython",
    "version": 3
   },
   "file_extension": ".py",
   "mimetype": "text/x-python",
   "name": "python",
   "nbconvert_exporter": "python",
   "pygments_lexer": "ipython3",
   "version": "3.10.12"
  }
 },
 "nbformat": 4,
 "nbformat_minor": 5
}
