{
 "cells": [
  {
   "cell_type": "code",
   "execution_count": null,
   "id": "8ec4fca6-2d67-4de8-b61a-6ba482377530",
   "metadata": {},
   "outputs": [],
   "source": [
    "from autoware_vehicle_adaptor.data_analyzer import driving_leaners\n",
    "import numpy as np"
   ]
  },
  {
   "cell_type": "code",
   "execution_count": null,
   "id": "d40d681d-3c00-4561-8fc0-5a340023f9ce",
   "metadata": {},
   "outputs": [],
   "source": [
    "calibrator = driving_leaners.Calibrator()\n",
    "base_map_dir = \"../actuation_cmd_maps/accel_brake_maps/9\""
   ]
  },
  {
   "cell_type": "code",
   "execution_count": null,
   "id": "9343075e-6f05-4925-b07b-fb029bce5bf8",
   "metadata": {},
   "outputs": [],
   "source": [
    "calibrator.add_data_from_csv(\"rosbag2_2024_07_24-13_52_06\", base_map_dir=base_map_dir)\n",
    "calibrator.add_data_from_csv(\"rosbag2_2024_07_24-13_58_11\", base_map_dir=base_map_dir)\n",
    "calibrator.add_data_from_csv(\"rosbag2_2024_07_24-14_01_57\", base_map_dir=base_map_dir)\n",
    "calibrator.add_data_from_csv(\"rosbag2_2024_07_24-14_05_35\", base_map_dir=base_map_dir)\n",
    "calibrator.add_data_from_csv(\"rosbag2_2024_07_24-14_09_12\", base_map_dir=base_map_dir)\n",
    "calibrator.add_data_from_csv(\"rosbag2_2024_07_24-14_13_09\", base_map_dir=base_map_dir)\n",
    "calibrator.add_data_from_csv(\"rosbag2_2024_07_24-14_19_25\", base_map_dir=base_map_dir)\n",
    "calibrator.add_data_from_csv(\"rosbag2_2024_07_24-14_23_02\", base_map_dir=base_map_dir)"
   ]
  },
  {
   "cell_type": "code",
   "execution_count": null,
   "id": "6f491dd1-18a6-416f-ad53-5a5fd19c1cba",
   "metadata": {},
   "outputs": [],
   "source": [
    "calibrator.outlier_exclusion_by_linear_regression()\n",
    "calibrator.calc_data_loader_weights()\n",
    "calibrator.plot_training_data()"
   ]
  },
  {
   "cell_type": "code",
   "execution_count": null,
   "id": "4ed04be2-d9ad-4fec-ab84-c5b6b2c16141",
   "metadata": {},
   "outputs": [],
   "source": [
    "calibrator.calc_base_map_error(base_map_dir)"
   ]
  },
  {
   "cell_type": "code",
   "execution_count": null,
   "id": "64c26e74-3dfa-43c6-b2b6-8948cf4a6eea",
   "metadata": {},
   "outputs": [],
   "source": [
    "calibrator.add_dummy_data(save_convex_hull_plot=True)"
   ]
  },
  {
   "cell_type": "code",
   "execution_count": null,
   "id": "a2f426a7-6f8f-496c-9c9e-a9340f5a8de3",
   "metadata": {},
   "outputs": [],
   "source": [
    "calibrator.calibrate_by_ensemble_NN()"
   ]
  },
  {
   "cell_type": "code",
   "execution_count": null,
   "id": "c372355e-0da3-4d9f-836e-4e1fc2b205d1",
   "metadata": {},
   "outputs": [],
   "source": [
    "calibrator.save_accel_brake_map_ensemble_NN(save_dir=\".\",save_heat_map=True,true_map_dir=base_map_dir)"
   ]
  }
 ],
 "metadata": {
  "kernelspec": {
   "display_name": "Python 3 (ipykernel)",
   "language": "python",
   "name": "python3"
  },
  "language_info": {
   "codemirror_mode": {
    "name": "ipython",
    "version": 3
   },
   "file_extension": ".py",
   "mimetype": "text/x-python",
   "name": "python",
   "nbconvert_exporter": "python",
   "pygments_lexer": "ipython3",
   "version": "3.10.12"
  }
 },
 "nbformat": 4,
 "nbformat_minor": 5
}
