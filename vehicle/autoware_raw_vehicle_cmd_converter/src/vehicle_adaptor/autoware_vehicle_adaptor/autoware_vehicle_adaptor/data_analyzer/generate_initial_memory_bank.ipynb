{
 "cells": [
  {
   "cell_type": "code",
   "execution_count": 1,
   "id": "b4df9388-5c9d-4395-ba63-344d50790915",
   "metadata": {},
   "outputs": [
    {
     "name": "stderr",
     "output_type": "stream",
     "text": [
      "/home/proxima/.local/lib/python3.10/site-packages/numpy/core/getlimits.py:499: UserWarning: The value of the smallest subnormal for <class 'numpy.float64'> type is zero.\n",
      "  setattr(self, word, getattr(machar, word).flat[0])\n",
      "/home/proxima/.local/lib/python3.10/site-packages/numpy/core/getlimits.py:89: UserWarning: The value of the smallest subnormal for <class 'numpy.float64'> type is zero.\n",
      "  return self._float_to_str(self.smallest_subnormal)\n",
      "/home/proxima/.local/lib/python3.10/site-packages/numpy/core/getlimits.py:499: UserWarning: The value of the smallest subnormal for <class 'numpy.float32'> type is zero.\n",
      "  setattr(self, word, getattr(machar, word).flat[0])\n",
      "/home/proxima/.local/lib/python3.10/site-packages/numpy/core/getlimits.py:89: UserWarning: The value of the smallest subnormal for <class 'numpy.float32'> type is zero.\n",
      "  return self._float_to_str(self.smallest_subnormal)\n"
     ]
    }
   ],
   "source": [
    "from autoware_vehicle_adaptor.training import train_error_prediction_NN_with_memory_bank\n",
    "import torch"
   ]
  },
  {
   "cell_type": "code",
   "execution_count": 2,
   "id": "ff6e98ab-1ed2-4adf-9701-2d845088c56c",
   "metadata": {},
   "outputs": [],
   "source": [
    "model_trainer = train_error_prediction_NN_with_memory_bank.train_error_prediction_NN_with_memory_bank()"
   ]
  },
  {
   "cell_type": "code",
   "execution_count": 3,
   "id": "78374105-2c19-451c-a828-917488436eec",
   "metadata": {},
   "outputs": [
    {
     "name": "stdout",
     "output_type": "stream",
     "text": [
      "operation_start_time 0.0\n",
      "operation_end_time 162.788999999\n"
     ]
    }
   ],
   "source": [
    "model_trainer.add_data_from_csv(\"../python_simulator/log_data/test_python_nominal_sim_nominal_param\",add_mode=\"as_train\")"
   ]
  },
  {
   "cell_type": "code",
   "execution_count": 4,
   "id": "469975c4-09bd-4a58-98de-bd06acae1a32",
   "metadata": {},
   "outputs": [
    {
     "name": "stderr",
     "output_type": "stream",
     "text": [
      "/tmp/ipykernel_7417/3998055103.py:1: FutureWarning: You are using `torch.load` with `weights_only=False` (the current default value), which uses the default pickle module implicitly. It is possible to construct malicious pickle data which will execute arbitrary code during unpickling (See https://github.com/pytorch/pytorch/blob/main/SECURITY.md#untrusted-models for more details). In a future release, the default value for `weights_only` will be flipped to `True`. This limits the functions that could be executed during unpickling. Arbitrary objects will no longer be allowed to be loaded via this mode unless they are explicitly allowlisted by the user via `torch.serialization.add_safe_globals`. We recommend you start setting `weights_only=True` for any use case where you don't have full control of the loaded file. Please open an issue on GitHub for any issues related to this experimental feature.\n",
      "  model_trainer.model_for_initial_hidden = torch.load(\"iter_147/vehicle_model_for_initial_hidden.pth\")\n"
     ]
    }
   ],
   "source": [
    "model_trainer.model_for_initial_hidden = torch.load(\"iter_147/vehicle_model_for_initial_hidden.pth\")"
   ]
  },
  {
   "cell_type": "code",
   "execution_count": 6,
   "id": "00067ae7-6e8a-4676-a602-3b91fcc54457",
   "metadata": {},
   "outputs": [],
   "source": [
    "model_trainer.get_initial_gru_bank(\"iter_147/vehicle_model/gru_bank.csv\")"
   ]
  },
  {
   "cell_type": "code",
   "execution_count": null,
   "id": "ce8c920f-dcab-407c-8d65-6f5adf1e6a81",
   "metadata": {},
   "outputs": [],
   "source": []
  }
 ],
 "metadata": {
  "kernelspec": {
   "display_name": "Python 3 (ipykernel)",
   "language": "python",
   "name": "python3"
  },
  "language_info": {
   "codemirror_mode": {
    "name": "ipython",
    "version": 3
   },
   "file_extension": ".py",
   "mimetype": "text/x-python",
   "name": "python",
   "nbconvert_exporter": "python",
   "pygments_lexer": "ipython3",
   "version": "3.10.12"
  }
 },
 "nbformat": 4,
 "nbformat_minor": 5
}
