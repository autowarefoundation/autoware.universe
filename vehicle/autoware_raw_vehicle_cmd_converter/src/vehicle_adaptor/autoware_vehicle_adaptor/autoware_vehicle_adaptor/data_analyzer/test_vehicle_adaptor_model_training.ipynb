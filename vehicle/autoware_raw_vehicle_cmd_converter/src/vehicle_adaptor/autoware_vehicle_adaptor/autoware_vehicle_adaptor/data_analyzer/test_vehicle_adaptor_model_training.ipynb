{
 "cells": [
  {
   "cell_type": "code",
   "execution_count": null,
   "id": "c81a6407-6ab0-41a0-94af-6f60afcc2b6b",
   "metadata": {},
   "outputs": [],
   "source": [
    "from autoware_vehicle_adaptor.data_analyzer import driving_learners\n",
    "import os"
   ]
  },
  {
   "cell_type": "code",
   "execution_count": null,
   "id": "d05e604d-fcfd-4393-bccc-17abc6ab9ca7",
   "metadata": {},
   "outputs": [],
   "source": [
    "model_trainer = driving_learners.train_error_prediction_NN()"
   ]
  },
  {
   "cell_type": "code",
   "execution_count": null,
   "id": "fcef9a14-fa4a-469d-bf26-97e68da91eac",
   "metadata": {},
   "outputs": [],
   "source": [
    "model_trainer.convert_rosbag_to_csv(\"rosbag2_2024_09_19-15_15_38\")\n",
    "model_trainer.convert_rosbag_to_csv(\"rosbag2_2024_09_19-15_20_03\")\n",
    "model_trainer.convert_rosbag_to_csv(\"rosbag2_2024_09_19-15_26_59\")\n",
    "model_trainer.convert_rosbag_to_csv(\"rosbag2_2024_09_19-15_30_13\")"
   ]
  },
  {
   "cell_type": "code",
   "execution_count": null,
   "id": "089ab55e-3b56-44fd-b60b-cd99ae54c4a9",
   "metadata": {},
   "outputs": [],
   "source": [
    "model_trainer.add_data_from_csv(\"rosbag2_2024_09_19-11_15_12\", add_mode=\"as_train\")\n",
    "model_trainer.add_data_from_csv(\"rosbag2_2024_09_19-11_53_20\", add_mode=\"as_train\")\n",
    "\n",
    "model_trainer.add_data_from_csv(\"rosbag2_2024_09_19-11_41_44\", add_mode=\"as_val\")\n",
    "model_trainer.add_data_from_csv(\"rosbag2_2024_09_19-11_57_13\", add_mode=\"as_val\")\n"
   ]
  },
  {
   "cell_type": "code",
   "execution_count": null,
   "id": "31b302c0-721c-46e6-83a2-c33457d616cc",
   "metadata": {
    "scrolled": true
   },
   "outputs": [],
   "source": [
    "model_trainer.get_trained_ensemble_models(batch_sizes=[10000],ensemble_size=5)"
   ]
  },
  {
   "cell_type": "code",
   "execution_count": 10,
   "id": "0d0b2c49-6ac5-47e8-9808-342397567731",
   "metadata": {},
   "outputs": [],
   "source": [
    "paths = [f\"vehicle_models/vehicle_model_{i+1}.pth\" for i in range(5)]\n",
    "if not os.path.isdir(\"vehicle_models\"):\n",
    "    os.mkdir(\"vehicle_models\")"
   ]
  },
  {
   "cell_type": "code",
   "execution_count": 11,
   "id": "cbc21f5d-6f5f-4e1a-a7b1-a7e5d65ef264",
   "metadata": {},
   "outputs": [],
   "source": [
    "model_trainer.save_ensemble_models(paths=paths)"
   ]
  }
 ],
 "metadata": {
  "kernelspec": {
   "display_name": "Python 3 (ipykernel)",
   "language": "python",
   "name": "python3"
  },
  "language_info": {
   "codemirror_mode": {
    "name": "ipython",
    "version": 3
   },
   "file_extension": ".py",
   "mimetype": "text/x-python",
   "name": "python",
   "nbconvert_exporter": "python",
   "pygments_lexer": "ipython3",
   "version": "3.10.12"
  }
 },
 "nbformat": 4,
 "nbformat_minor": 5
}
