{
 "cells": [
  {
   "cell_type": "code",
   "execution_count": null,
   "id": "0ab89210-13f3-4167-9b0e-b67a77a7b3cb",
   "metadata": {},
   "outputs": [],
   "source": [
    "from autoware_vehicle_adaptor.data_analyzer import driving_leaners\n",
    "import os"
   ]
  },
  {
   "cell_type": "code",
   "execution_count": 2,
   "id": "9e5d3568-903b-4709-a1af-88cd238d92f0",
   "metadata": {},
   "outputs": [],
   "source": [
    "model_trainer = driving_leaners.train_error_prediction_NN()"
   ]
  },
  {
   "cell_type": "code",
   "execution_count": null,
   "id": "449a99bc-b473-4b65-8d56-d4dc03497f6c",
   "metadata": {},
   "outputs": [],
   "source": [
    "model_trainer.convert_rosbag_to_csv(\"rosbag2_2024_09_19-15_15_38\")\n",
    "model_trainer.convert_rosbag_to_csv(\"rosbag2_2024_09_19-15_20_03\")\n",
    "model_trainer.convert_rosbag_to_csv(\"rosbag2_2024_09_19-15_26_59\")\n",
    "model_trainer.convert_rosbag_to_csv(\"rosbag2_2024_09_19-15_30_13\")"
   ]
  },
  {
   "cell_type": "code",
   "execution_count": null,
   "id": "cf70f39e-643c-4f91-b4b1-135ccf146baa",
   "metadata": {},
   "outputs": [],
   "source": [
    "model_trainer.add_data_from_csv(\"rosbag2_2024_09_19-11_15_12\", add_mode=\"as_train\")\n",
    "model_trainer.add_data_from_csv(\"rosbag2_2024_09_19-11_53_20\", add_mode=\"as_train\")\n",
    "\n",
    "model_trainer.add_data_from_csv(\"rosbag2_2024_09_19-11_41_44\", add_mode=\"as_val\")\n",
    "model_trainer.add_data_from_csv(\"rosbag2_2024_09_19-11_57_13\", add_mode=\"as_val\")\n"
   ]
  },
  {
   "cell_type": "code",
   "execution_count": 4,
   "id": "48775c12-70c0-4c82-b6a5-e3d5c1ce6306",
   "metadata": {},
   "outputs": [],
   "source": [
    "if not os.path.isdir(\"real_vehicle_model\"):\n",
    "    os.mkdir(\"real_vehicle_model\")"
   ]
  },
  {
   "cell_type": "code",
   "execution_count": null,
   "id": "56829c72-f602-4aad-b1bf-f55e9a0ee091",
   "metadata": {},
   "outputs": [],
   "source": [
    "model_trainer.get_trained_model(batch_sizes=[100])"
   ]
  },
  {
   "cell_type": "code",
   "execution_count": 6,
   "id": "623f6daa-bc0d-44c0-8d3b-c66993cf2139",
   "metadata": {},
   "outputs": [],
   "source": [
    "model_idx = 0"
   ]
  },
  {
   "cell_type": "code",
   "execution_count": null,
   "id": "4fab20ea-9009-4b22-b829-e16a6553a8f9",
   "metadata": {},
   "outputs": [],
   "source": [
    "print(\"model_idx:\",model_idx)\n",
    "model_path = \"real_vehicle_model/vehicle_model_\" + str(model_idx) + \".pth\"\n",
    "plt_save_dir = \"real_vehicle_model/test_python_vehicle_adaptor_sim_\" + str(model_idx)\n",
    "model_trainer.get_relearned_model(learning_rates=[1e-2],batch_sizes=[10],randomize= 0.01,plt_save_dir=plt_save_dir,save_path=model_path)\n",
    "model_idx += 1"
   ]
  },
  {
   "cell_type": "code",
   "execution_count": null,
   "id": "7e2f4b26-aaf5-4e26-8a94-76927a816a45",
   "metadata": {},
   "outputs": [],
   "source": [
    "for i in range(4):\n",
    "    print(\"model_idx:\",model_idx)\n",
    "    model_path = \"real_vehicle_model/vehicle_model_\" + str(model_idx) + \".pth\"\n",
    "    plt_save_dir = \"real_vehicle_model/test_python_vehicle_adaptor_sim_\" + str(model_idx)\n",
    "    model_trainer.get_relearned_model(learning_rates=[1e-3],batch_sizes=[100],reset_weight=True,plt_save_dir=plt_save_dir,save_path=model_path)\n",
    "    model_idx += 1\n",
    "\n",
    "    print(\"model_idx:\",model_idx)\n",
    "    model_path = \"real_vehicle_model/vehicle_model_\" + str(model_idx) + \".pth\"\n",
    "    plt_save_dir = \"real_vehicle_model/test_python_vehicle_adaptor_sim_\" + str(model_idx)\n",
    "    model_trainer.get_relearned_model(learning_rates=[1e-2],batch_sizes=[10],randomize= 0.01,plt_save_dir=plt_save_dir,save_path=model_path)\n",
    "    model_idx += 1\n",
    "print(\"model_idx:\",model_idx)\n",
    "model_path = \"real_vehicle_model/vehicle_model_\" + str(model_idx) + \".pth\"\n",
    "plt_save_dir = \"real_vehicle_model/test_python_vehicle_adaptor_sim_\" + str(model_idx)\n",
    "model_trainer.get_relearned_model(learning_rates=[1e-3,1e-4,1e-5,1e-6],batch_sizes=[100],randomize= 0.001,plt_save_dir=plt_save_dir,save_path=model_path)\n",
    "model_idx += 1"
   ]
  },
  {
   "cell_type": "code",
   "execution_count": 14,
   "id": "e7ceae34-72cf-4951-a3fa-4a5c26cd5157",
   "metadata": {},
   "outputs": [],
   "source": [
    "model_trainer.initialize_ensemble_models()"
   ]
  },
  {
   "cell_type": "code",
   "execution_count": null,
   "id": "26d2583f-0fd5-434b-a245-ee355719270e",
   "metadata": {},
   "outputs": [],
   "source": [
    "for i in range(4):\n",
    "    model_trainer.get_updated_temp_model(batch_sizes=[100])\n",
    "    print(\"model_idx:\",model_idx)\n",
    "    model_path = \"real_vehicle_model/vehicle_model_\" + str(model_idx) + \".pth\"\n",
    "    plt_save_dir = \"real_vehicle_model/test_python_vehicle_adaptor_sim_\" + str(model_idx)\n",
    "    model_trainer.relearn_temp_model(learning_rates=[1e-3,1e-4,1e-5,1e-6],batch_sizes=[100],randomize= 0.001,plt_save_dir=plt_save_dir,save_path=model_path)\n",
    "    model_trainer.add_temp_model_to_ensemble()"
   ]
  },
  {
   "cell_type": "code",
   "execution_count": 15,
   "id": "32bc6641-82c6-46af-b1b3-cbac1d2b2d5b",
   "metadata": {},
   "outputs": [],
   "source": [
    "paths = [f\"vehicle_models/vehicle_model_{i+1}.pth\" for i in range(5)]\n",
    "if not os.path.isdir(\"vehicle_models\"):\n",
    "    os.mkdir(\"vehicle_models\")"
   ]
  },
  {
   "cell_type": "code",
   "execution_count": null,
   "id": "ab38b2bd-b817-4fe8-9fee-1ed25dfe4214",
   "metadata": {},
   "outputs": [],
   "source": [
    "model_trainer.save_ensemble_models(paths=paths)"
   ]
  },
  {
   "cell_type": "code",
   "execution_count": null,
   "id": "6981f53a-1156-4fd7-a1f8-7a9f49455e59",
   "metadata": {},
   "outputs": [],
   "source": []
  },
  {
   "cell_type": "code",
   "execution_count": null,
   "id": "ea074d6b-52f3-4419-9928-0af8e82a9333",
   "metadata": {},
   "outputs": [],
   "source": []
  }
 ],
 "metadata": {
  "kernelspec": {
   "display_name": "Python 3 (ipykernel)",
   "language": "python",
   "name": "python3"
  },
  "language_info": {
   "codemirror_mode": {
    "name": "ipython",
    "version": 3
   },
   "file_extension": ".py",
   "mimetype": "text/x-python",
   "name": "python",
   "nbconvert_exporter": "python",
   "pygments_lexer": "ipython3",
   "version": "3.10.12"
  }
 },
 "nbformat": 4,
 "nbformat_minor": 5
}
