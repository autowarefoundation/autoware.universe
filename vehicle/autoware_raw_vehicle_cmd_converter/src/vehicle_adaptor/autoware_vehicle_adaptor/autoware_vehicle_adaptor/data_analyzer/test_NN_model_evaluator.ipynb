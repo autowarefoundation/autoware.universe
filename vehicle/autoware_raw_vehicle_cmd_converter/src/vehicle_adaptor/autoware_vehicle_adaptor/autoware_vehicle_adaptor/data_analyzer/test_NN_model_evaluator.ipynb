{
 "cells": [
  {
   "cell_type": "code",
   "execution_count": null,
   "id": "4d072f18-cf37-45d4-a2e8-883b61af7277",
   "metadata": {},
   "outputs": [],
   "source": [
    "from autoware_vehicle_adaptor.data_analyzer import NN_model_evaluator\n",
    "import torch"
   ]
  },
  {
   "cell_type": "code",
   "execution_count": null,
   "id": "8d2ab9d3-12e3-4845-81d4-365520e1aff0",
   "metadata": {},
   "outputs": [],
   "source": [
    "evaluator = NN_model_evaluator.NNModelEvaluator()"
   ]
  },
  {
   "cell_type": "code",
   "execution_count": null,
   "id": "bbb68f3d-658c-4f26-ab89-fd8cb5551245",
   "metadata": {},
   "outputs": [],
   "source": [
    "evaluator.models = [torch.load(\"/vehicle_model_\"+str(i)+\".pth\").to(\"cpu\") for i in range(5)]"
   ]
  },
  {
   "cell_type": "code",
   "execution_count": null,
   "id": "9cd62f28-b440-46b9-b632-494bad96adf0",
   "metadata": {},
   "outputs": [],
   "source": [
    "evaluator.add_data_from_csv(\"rosbag2_2024_12_20-11_08_02\", add_mode=\"as_test\")"
   ]
  },
  {
   "cell_type": "code",
   "execution_count": null,
   "id": "ff0287d0-3f9f-4624-9474-a9da671d9e79",
   "metadata": {},
   "outputs": [],
   "source": [
    "evaluator.evaluate(show_plt=True)"
   ]
  }
 ],
 "metadata": {
  "kernelspec": {
   "display_name": "Python 3 (ipykernel)",
   "language": "python",
   "name": "python3"
  },
  "language_info": {
   "codemirror_mode": {
    "name": "ipython",
    "version": 3
   },
   "file_extension": ".py",
   "mimetype": "text/x-python",
   "name": "python",
   "nbconvert_exporter": "python",
   "pygments_lexer": "ipython3",
   "version": "3.10.12"
  }
 },
 "nbformat": 4,
 "nbformat_minor": 5
}
